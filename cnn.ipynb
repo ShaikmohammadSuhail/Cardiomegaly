{
 "cells": [
  {
   "cell_type": "code",
   "execution_count": 1,
   "metadata": {},
   "outputs": [
    {
     "name": "stdout",
     "output_type": "stream",
     "text": [
      "WARNING:tensorflow:From C:\\Users\\0618\\AppData\\Roaming\\Python\\Python310\\site-packages\\keras\\src\\losses.py:2976: The name tf.losses.sparse_softmax_cross_entropy is deprecated. Please use tf.compat.v1.losses.sparse_softmax_cross_entropy instead.\n",
      "\n"
     ]
    }
   ],
   "source": [
    "import numpy as np\n",
    "import pandas as pd\n",
    "%matplotlib inline\n",
    "import matplotlib.pyplot as plt\n",
    "import seaborn as sns\n",
    "from keras.applications import *\n",
    "import os\n",
    "import tensorflow as tf\n",
    "from keras.models import Model, Sequential, load_model\n",
    "from keras.layers import Dense, Dropout, Flatten, Conv2D, MaxPool2D, BatchNormalization, GlobalAveragePooling2D,Activation,Input\n",
    "from tensorflow.keras.optimizers import Adam\n",
    "from keras.preprocessing.image import ImageDataGenerator"
   ]
  },
  {
   "cell_type": "code",
   "execution_count": 2,
   "metadata": {},
   "outputs": [
    {
     "name": "stdout",
     "output_type": "stream",
     "text": [
      "['false', 'true']\n",
      "2\n"
     ]
    }
   ],
   "source": [
    "data_dir=r\"Dataset/test\"\n",
    "Action=[]\n",
    "for file in os.listdir(data_dir):\n",
    "    Action+=[file]\n",
    "print(Action)\n",
    "print(len(Action))"
   ]
  },
  {
   "cell_type": "code",
   "execution_count": 3,
   "metadata": {},
   "outputs": [],
   "source": [
    "img_height,img_width=224,224\n",
    "batch_size=20"
   ]
  },
  {
   "cell_type": "code",
   "execution_count": 4,
   "metadata": {},
   "outputs": [],
   "source": [
    "train=\"Dataset/train/\"\n",
    "test=\"Dataset/test/\""
   ]
  },
  {
   "cell_type": "code",
   "execution_count": 5,
   "metadata": {},
   "outputs": [
    {
     "name": "stdout",
     "output_type": "stream",
     "text": [
      "Found 4438 images belonging to 2 classes.\n",
      "Found 1114 images belonging to 2 classes.\n"
     ]
    }
   ],
   "source": [
    "train_datagen = ImageDataGenerator(rescale=1./255)\n",
    "train_generator = train_datagen.flow_from_directory(train,\n",
    "                                                target_size=(img_height,img_width),\n",
    "                                                batch_size=batch_size,\n",
    "                                                class_mode='categorical',\n",
    "                                                )\n",
    "test_generator = train_datagen.flow_from_directory(test,\n",
    "                                                target_size=(img_height,img_width),\n",
    "                                                batch_size=batch_size,\n",
    "                                                class_mode='categorical',\n",
    "                                                )"
   ]
  },
  {
   "cell_type": "code",
   "execution_count": 6,
   "metadata": {},
   "outputs": [
    {
     "name": "stdout",
     "output_type": "stream",
     "text": [
      "WARNING:tensorflow:From C:\\Users\\0618\\AppData\\Roaming\\Python\\Python310\\site-packages\\keras\\src\\backend.py:873: The name tf.get_default_graph is deprecated. Please use tf.compat.v1.get_default_graph instead.\n",
      "\n",
      "WARNING:tensorflow:From C:\\Users\\0618\\AppData\\Roaming\\Python\\Python310\\site-packages\\keras\\src\\layers\\pooling\\max_pooling2d.py:161: The name tf.nn.max_pool is deprecated. Please use tf.nn.max_pool2d instead.\n",
      "\n",
      "Model: \"sequential\"\n",
      "_________________________________________________________________\n",
      " Layer (type)                Output Shape              Param #   \n",
      "=================================================================\n",
      " conv2d (Conv2D)             (None, 224, 224, 32)      896       \n",
      "                                                                 \n",
      " max_pooling2d (MaxPooling2  (None, 112, 112, 32)      0         \n",
      " D)                                                              \n",
      "                                                                 \n",
      " conv2d_1 (Conv2D)           (None, 112, 112, 64)      18496     \n",
      "                                                                 \n",
      " max_pooling2d_1 (MaxPoolin  (None, 56, 56, 64)        0         \n",
      " g2D)                                                            \n",
      "                                                                 \n",
      " conv2d_2 (Conv2D)           (None, 56, 56, 96)        55392     \n",
      "                                                                 \n",
      " max_pooling2d_2 (MaxPoolin  (None, 28, 28, 96)        0         \n",
      " g2D)                                                            \n",
      "                                                                 \n",
      " conv2d_3 (Conv2D)           (None, 28, 28, 96)        83040     \n",
      "                                                                 \n",
      " max_pooling2d_3 (MaxPoolin  (None, 14, 14, 96)        0         \n",
      " g2D)                                                            \n",
      "                                                                 \n",
      " flatten (Flatten)           (None, 18816)             0         \n",
      "                                                                 \n",
      " dense (Dense)               (None, 512)               9634304   \n",
      "                                                                 \n",
      " activation (Activation)     (None, 512)               0         \n",
      "                                                                 \n",
      " dense_1 (Dense)             (None, 2)                 1026      \n",
      "                                                                 \n",
      "=================================================================\n",
      "Total params: 9793154 (37.36 MB)\n",
      "Trainable params: 9793154 (37.36 MB)\n",
      "Non-trainable params: 0 (0.00 Byte)\n",
      "_________________________________________________________________\n"
     ]
    }
   ],
   "source": [
    "model = Sequential()\n",
    "model.add(Conv2D(filters=32, kernel_size=(3,3), padding='Same', activation='relu', input_shape=(img_height,img_width, 3)))\n",
    "model.add(MaxPool2D(pool_size=(2,2)))\n",
    "\n",
    "model.add(Conv2D(filters=64, kernel_size=(3,3), padding='Same', activation='relu'))\n",
    "model.add(MaxPool2D(pool_size=(2,2), strides=(2,2)))\n",
    "model.add(Conv2D(filters=96, kernel_size=(3,3), padding='Same', activation='relu'))\n",
    "model.add(MaxPool2D(pool_size=(2,2), strides=(2,2)))\n",
    "\n",
    "model.add(Conv2D(filters=96, kernel_size=(3,3), padding='Same', activation='relu'))\n",
    "model.add(MaxPool2D(pool_size=(2,2), strides=(2,2)))\n",
    "\n",
    "model.add(Flatten())\n",
    "model.add(Dense(512))\n",
    "model.add(Activation('relu'))\n",
    "model.add(Dense(2, activation=\"softmax\"))\n",
    "\n",
    "model.summary()"
   ]
  },
  {
   "cell_type": "code",
   "execution_count": 7,
   "metadata": {},
   "outputs": [
    {
     "name": "stdout",
     "output_type": "stream",
     "text": [
      "WARNING:tensorflow:From C:\\Users\\0618\\AppData\\Roaming\\Python\\Python310\\site-packages\\keras\\src\\optimizers\\__init__.py:309: The name tf.train.Optimizer is deprecated. Please use tf.compat.v1.train.Optimizer instead.\n",
      "\n",
      "Epoch 1/20\n",
      "WARNING:tensorflow:From C:\\Users\\0618\\AppData\\Roaming\\Python\\Python310\\site-packages\\keras\\src\\utils\\tf_utils.py:492: The name tf.ragged.RaggedTensorValue is deprecated. Please use tf.compat.v1.ragged.RaggedTensorValue instead.\n",
      "\n",
      "WARNING:tensorflow:From C:\\Users\\0618\\AppData\\Roaming\\Python\\Python310\\site-packages\\keras\\src\\engine\\base_layer_utils.py:384: The name tf.executing_eagerly_outside_functions is deprecated. Please use tf.compat.v1.executing_eagerly_outside_functions instead.\n",
      "\n",
      "222/222 [==============================] - 243s 1s/step - loss: 0.7125 - accuracy: 0.5397 - val_loss: 0.6945 - val_accuracy: 0.5000\n",
      "Epoch 2/20\n",
      "222/222 [==============================] - 205s 923ms/step - loss: 0.6633 - accuracy: 0.5910 - val_loss: 0.6083 - val_accuracy: 0.6580\n",
      "Epoch 3/20\n",
      "222/222 [==============================] - 187s 845ms/step - loss: 0.6136 - accuracy: 0.6629 - val_loss: 0.5852 - val_accuracy: 0.6706\n",
      "Epoch 4/20\n",
      "222/222 [==============================] - 178s 801ms/step - loss: 0.5799 - accuracy: 0.6884 - val_loss: 0.5672 - val_accuracy: 0.6858\n",
      "Epoch 5/20\n",
      "222/222 [==============================] - 187s 840ms/step - loss: 0.5608 - accuracy: 0.7102 - val_loss: 0.5544 - val_accuracy: 0.7074\n",
      "Epoch 6/20\n",
      "222/222 [==============================] - 201s 906ms/step - loss: 0.5402 - accuracy: 0.7177 - val_loss: 0.5656 - val_accuracy: 0.7145\n",
      "Epoch 7/20\n",
      "222/222 [==============================] - 233s 1s/step - loss: 0.5118 - accuracy: 0.7395 - val_loss: 0.5410 - val_accuracy: 0.7217\n",
      "Epoch 8/20\n",
      "222/222 [==============================] - 184s 829ms/step - loss: 0.4811 - accuracy: 0.7578 - val_loss: 0.5677 - val_accuracy: 0.6966\n",
      "Epoch 9/20\n",
      "222/222 [==============================] - 192s 864ms/step - loss: 0.4431 - accuracy: 0.7918 - val_loss: 0.5761 - val_accuracy: 0.6858\n",
      "Epoch 10/20\n",
      "222/222 [==============================] - 193s 868ms/step - loss: 0.3870 - accuracy: 0.8272 - val_loss: 0.6321 - val_accuracy: 0.7011\n",
      "Epoch 11/20\n",
      "222/222 [==============================] - 196s 881ms/step - loss: 0.3276 - accuracy: 0.8533 - val_loss: 0.6935 - val_accuracy: 0.7154\n",
      "Epoch 12/20\n",
      "222/222 [==============================] - 196s 883ms/step - loss: 0.2679 - accuracy: 0.8835 - val_loss: 0.8808 - val_accuracy: 0.6921\n",
      "Epoch 13/20\n",
      "222/222 [==============================] - 199s 897ms/step - loss: 0.2130 - accuracy: 0.9060 - val_loss: 0.8679 - val_accuracy: 0.7002\n",
      "Epoch 14/20\n",
      "222/222 [==============================] - 182s 821ms/step - loss: 0.1430 - accuracy: 0.9441 - val_loss: 1.2038 - val_accuracy: 0.7047\n",
      "Epoch 15/20\n",
      "222/222 [==============================] - 188s 848ms/step - loss: 0.1358 - accuracy: 0.9446 - val_loss: 1.3307 - val_accuracy: 0.6966\n",
      "Epoch 16/20\n",
      "222/222 [==============================] - 183s 824ms/step - loss: 0.0979 - accuracy: 0.9646 - val_loss: 1.5925 - val_accuracy: 0.7002\n",
      "Epoch 17/20\n",
      "222/222 [==============================] - 184s 829ms/step - loss: 0.0875 - accuracy: 0.9680 - val_loss: 1.6700 - val_accuracy: 0.7020\n",
      "Epoch 18/20\n",
      "222/222 [==============================] - 171s 769ms/step - loss: 0.0722 - accuracy: 0.9761 - val_loss: 1.6947 - val_accuracy: 0.6984\n",
      "Epoch 19/20\n",
      "222/222 [==============================] - 182s 820ms/step - loss: 0.0486 - accuracy: 0.9824 - val_loss: 2.0252 - val_accuracy: 0.6975\n",
      "Epoch 20/20\n",
      "222/222 [==============================] - 209s 941ms/step - loss: 0.0453 - accuracy: 0.9840 - val_loss: 2.1247 - val_accuracy: 0.6921\n"
     ]
    }
   ],
   "source": [
    "model.compile(optimizer='Adam',loss=\"categorical_crossentropy\",metrics=[\"accuracy\"])\n",
    "hist=model.fit(train_generator,epochs=20,validation_data=test_generator,verbose=1)"
   ]
  },
  {
   "cell_type": "code",
   "execution_count": 8,
   "metadata": {},
   "outputs": [
    {
     "name": "stderr",
     "output_type": "stream",
     "text": [
      "C:\\Users\\0618\\AppData\\Roaming\\Python\\Python310\\site-packages\\keras\\src\\engine\\training.py:3103: UserWarning: You are saving your model as an HDF5 file via `model.save()`. This file format is considered legacy. We recommend using instead the native Keras format, e.g. `model.save('my_model.keras')`.\n",
      "  saving_api.save_model(\n"
     ]
    }
   ],
   "source": [
    "model.save(\"models/MOBILENET.h5\")"
   ]
  },
  {
   "cell_type": "code",
   "execution_count": 10,
   "metadata": {},
   "outputs": [
    {
     "data": {
      "image/png": "[encoded data removed]",
      "text/plain": [
       "<Figure size 640x480 with 2 Axes>"
      ]
     },
     "metadata": {},
     "output_type": "display_data"
    }
   ],
   "source": [
    "fig, ax = plt.subplots(2,1)\n",
    "ax[0].plot(hist.history['accuracy'], color='b', label=\"Training accuracy\")\n",
    "ax[0].plot(hist.history['val_accuracy'], color='r',label=\"Validation accuracy\")\n",
    "legend = ax[0].legend(loc='best', shadow=True)\n",
    "\n",
    "ax[1].plot(hist.history['loss'], color='b', label=\"Training loss\")\n",
    "legend = ax[1].legend(loc='best', shadow=True)"
   ]
  }
 ],
 "metadata": {
  "kernelspec": {
   "display_name": "Python 3",
   "language": "python",
   "name": "python3"
  },
  "language_info": {
   "codemirror_mode": {
    "name": "ipython",
    "version": 3
   },
   "file_extension": ".py",
   "mimetype": "text/x-python",
   "name": "python",
   "nbconvert_exporter": "python",
   "pygments_lexer": "ipython3",
   "version": "3.10.8"
  }
 },
 "nbformat": 4,
 "nbformat_minor": 2
}
